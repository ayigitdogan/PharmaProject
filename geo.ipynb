{
 "cells": [
  {
   "cell_type": "markdown",
   "metadata": {},
   "source": [
    "# Libraries"
   ]
  },
  {
   "cell_type": "code",
   "execution_count": 2,
   "metadata": {},
   "outputs": [],
   "source": [
    "import pandas as pd\n",
    "import geopandas as gp\n",
    "import matplotlib.pyplot as plt\n",
    "%matplotlib inline"
   ]
  },
  {
   "cell_type": "markdown",
   "metadata": {},
   "source": [
    "# Data Preprocessing"
   ]
  },
  {
   "cell_type": "code",
   "execution_count": 3,
   "metadata": {},
   "outputs": [],
   "source": [
    "sales = pd.read_parquet(\"sale_data.parquet\")\n",
    "cities = gp.read_file(\"zip://gadm36_TUR_1.zip\")"
   ]
  },
  {
   "cell_type": "code",
   "execution_count": 4,
   "metadata": {},
   "outputs": [
    {
     "data": {
      "text/plain": [
       "array(['Adana', 'Adıyaman', 'Afyon', 'Afyonkarahisar', 'Aksaray',\n",
       "       'Amasya', 'Ankara', 'Antalya', 'Ardahan', 'Artvin', 'Aydın',\n",
       "       'Ağrı', 'Balıkesir', 'Bartın', 'Batman', 'Bayburt', 'Bilecik',\n",
       "       'Bingöl', 'Bitlis', 'Bolu', 'Burdur', 'Bursa', 'Denizli',\n",
       "       'Diyarbakır', 'Düzce', 'Edirne', 'Elazığ', 'Erzincan', 'Erzurum',\n",
       "       'Eskişehir', 'Gaziantep', 'Giresun', 'Gümüşhane', 'Hakkâri',\n",
       "       'Hatay', 'Isparta', 'Iğdır', 'Kahramanmaraş', 'Karabük', 'Karaman',\n",
       "       'Kars', 'Kastamonu', 'Kayseri', 'Kilis', 'Kocaeli', 'Konya',\n",
       "       'Kütahya', 'Kırklareli', 'Kırıkkale', 'Kırşehir', 'Malatya',\n",
       "       'Manisa', 'Mardin', 'Mersin', 'Mersin (İçel)', 'Muğla', 'Muş',\n",
       "       'Nevşehir', 'Niğde', 'Ordu', 'Osmaniye', 'Rize', 'Sakarya',\n",
       "       'Samsun', 'Siirt', 'Sinop', 'Sivas', 'Tekirdağ', 'Tokat',\n",
       "       'Trabzon', 'Tunceli', 'Uşak', 'Van', 'Yalova', 'Yozgat',\n",
       "       'Zonguldak', 'Çanakkale', 'Çankırı', 'Çorum', 'İstanbul', 'İzmir',\n",
       "       'Şanlıurfa', 'Şırnak'], dtype=object)"
      ]
     },
     "execution_count": 4,
     "metadata": {},
     "output_type": "execute_result"
    }
   ],
   "source": [
    "cities_sorted = sales[\"City\"].unique()\n",
    "cities_sorted.sort()\n",
    "cities_sorted"
   ]
  },
  {
   "cell_type": "code",
   "execution_count": 5,
   "metadata": {},
   "outputs": [
    {
     "data": {
      "text/plain": [
       "['Şırnak',\n",
       " 'Eskisehir',\n",
       " 'Agri',\n",
       " 'Kirklareli',\n",
       " 'İzmir',\n",
       " 'Çankırı',\n",
       " 'Hakkari',\n",
       " 'Kirsehir',\n",
       " 'Eskişehir',\n",
       " 'Adiyaman',\n",
       " 'Çankiri',\n",
       " 'Mus',\n",
       " 'Kırklareli',\n",
       " 'Nigde',\n",
       " 'Balikesir',\n",
       " 'Uşak',\n",
       " 'Kahramanmaraş',\n",
       " 'Muş',\n",
       " 'K. Maras',\n",
       " 'Istanbul',\n",
       " 'Kırıkkale',\n",
       " 'Niğde',\n",
       " 'Kinkkale',\n",
       " 'Tekirdağ',\n",
       " 'Diyarbakir',\n",
       " 'Ağrı',\n",
       " 'Gümüşhane',\n",
       " 'Diyarbakır',\n",
       " 'Balıkesir',\n",
       " 'Afyonkarahisar',\n",
       " 'Usak',\n",
       " 'Nevsehir',\n",
       " 'Adıyaman',\n",
       " 'Izmir',\n",
       " 'Kırşehir',\n",
       " 'Şanlıurfa',\n",
       " 'Aydın',\n",
       " 'Mersin (İçel)',\n",
       " 'Nevşehir',\n",
       " 'Sanliurfa',\n",
       " 'İstanbul',\n",
       " 'Zonguldak',\n",
       " 'Mugla',\n",
       " 'Sirnak',\n",
       " 'Aydin',\n",
       " 'Hakkâri',\n",
       " 'Gümüshane',\n",
       " 'Muğla',\n",
       " 'Tekirdag',\n",
       " 'Zinguldak']"
      ]
     },
     "execution_count": 5,
     "metadata": {},
     "output_type": "execute_result"
    }
   ],
   "source": [
    "errors = list((set(cities_sorted) - set(cities[\"NAME_1\"])).union(set(cities[\"NAME_1\"]) - set(cities_sorted)))\n",
    "errors"
   ]
  },
  {
   "cell_type": "code",
   "execution_count": 6,
   "metadata": {},
   "outputs": [
    {
     "data": {
      "text/plain": [
       "array(['Adana', 'Adiyaman', 'Afyon', 'Agri', 'Aksaray', 'Amasya',\n",
       "       'Ankara', 'Antalya', 'Ardahan', 'Artvin', 'Aydin', 'Balikesir',\n",
       "       'Bartın', 'Batman', 'Bayburt', 'Bilecik', 'Bingöl', 'Bitlis',\n",
       "       'Bolu', 'Burdur', 'Bursa', 'Çanakkale', 'Çankiri', 'Çorum',\n",
       "       'Denizli', 'Diyarbakir', 'Düzce', 'Edirne', 'Elazığ', 'Erzincan',\n",
       "       'Erzurum', 'Eskisehir', 'Gaziantep', 'Giresun', 'Gümüshane',\n",
       "       'Hakkari', 'Hatay', 'Iğdır', 'Isparta', 'Istanbul', 'Izmir',\n",
       "       'K. Maras', 'Karabük', 'Karaman', 'Kars', 'Kastamonu', 'Kayseri',\n",
       "       'Kilis', 'Kinkkale', 'Kirklareli', 'Kirsehir', 'Kocaeli', 'Konya',\n",
       "       'Kütahya', 'Malatya', 'Manisa', 'Mardin', 'Mersin', 'Mugla', 'Mus',\n",
       "       'Nevsehir', 'Nigde', 'Ordu', 'Osmaniye', 'Rize', 'Sakarya',\n",
       "       'Samsun', 'Sanliurfa', 'Siirt', 'Sinop', 'Sirnak', 'Sivas',\n",
       "       'Tekirdag', 'Tokat', 'Trabzon', 'Tunceli', 'Usak', 'Van', 'Yalova',\n",
       "       'Yozgat', 'Zinguldak'], dtype=object)"
      ]
     },
     "execution_count": 6,
     "metadata": {},
     "output_type": "execute_result"
    }
   ],
   "source": [
    "cities[\"NAME_1\"].unique()"
   ]
  },
  {
   "cell_type": "code",
   "execution_count": 7,
   "metadata": {},
   "outputs": [],
   "source": [
    "cities_mapping = {'Adiyaman': \"Adıyaman\", 'Afyon':\"Afyonkarahisar\", 'Aydin':\"Aydın\",\n",
    "                  'Agri':\"Ağrı\", 'Balikesir': \"Balıkesir\", 'Çankiri': \"Çankırı\",\n",
    "                  'Diyarbakir':\"Diyarbakır\", 'Eskisehir':\"Eskişehir\", 'Gümüshane':\"Gümüşhane\",\n",
    "                  'Hakkâri':\"Hakkari\", 'Istanbul':\"İstanbul\", 'Izmir':\"İzmir\", 'K. Maras':\"Kahramanmaraş\",\n",
    "                  'Kinkkale':\"Kırıkkale\", 'Kirklareli':\"Kırklareli\", 'Kirsehir':\"Kırşehir\",\n",
    "                  'Mersin (İçel)':\"Mersin\", 'Mugla':\"Muğla\", 'Mus':\"Muş\", 'Nevsehir':\"Nevşehir\",\n",
    "                  'Nigde':\"Niğde\", 'Sanliurfa':\"Şanlıurfa\", 'Sirnak':\"Şırnak\", 'Tekirdag':\"Tekirdağ\",\n",
    "                  'Usak':\"Uşak\", 'Zinguldak':\"Zonguldak\"}"
   ]
  },
  {
   "cell_type": "code",
   "execution_count": 8,
   "metadata": {},
   "outputs": [],
   "source": [
    "for i in errors:\n",
    "    if (i not in cities_mapping.keys()) and (i not in cities_mapping.values()):\n",
    "        print(i)\n",
    "\n",
    "# No mismatches left"
   ]
  },
  {
   "cell_type": "code",
   "execution_count": 9,
   "metadata": {},
   "outputs": [],
   "source": [
    "sales = sales.replace({\"City\": cities_mapping})\n",
    "cities = cities.replace({\"NAME_1\": cities_mapping})\n",
    "cities = cities.rename(columns={'NAME_1': 'City'})"
   ]
  },
  {
   "cell_type": "code",
   "execution_count": 13,
   "metadata": {},
   "outputs": [],
   "source": [
    "sales[\"PromoRatio\"] = sales.FreeQty/(sales.PaidQty+sales.FreeQty)"
   ]
  },
  {
   "cell_type": "code",
   "execution_count": 24,
   "metadata": {},
   "outputs": [
    {
     "data": {
      "text/html": [
       "<div>\n",
       "<style scoped>\n",
       "    .dataframe tbody tr th:only-of-type {\n",
       "        vertical-align: middle;\n",
       "    }\n",
       "\n",
       "    .dataframe tbody tr th {\n",
       "        vertical-align: top;\n",
       "    }\n",
       "\n",
       "    .dataframe thead th {\n",
       "        text-align: right;\n",
       "    }\n",
       "</style>\n",
       "<table border=\"1\" class=\"dataframe\">\n",
       "  <thead>\n",
       "    <tr style=\"text-align: right;\">\n",
       "      <th></th>\n",
       "      <th>Date</th>\n",
       "      <th>LocationId</th>\n",
       "      <th>MainDistributorId</th>\n",
       "      <th>DistributorId</th>\n",
       "      <th>PackageId</th>\n",
       "      <th>ProductId</th>\n",
       "      <th>City</th>\n",
       "      <th>District</th>\n",
       "      <th>BrickId</th>\n",
       "      <th>PaidQty</th>\n",
       "      <th>FreeQty</th>\n",
       "      <th>PromoRatio</th>\n",
       "    </tr>\n",
       "  </thead>\n",
       "  <tbody>\n",
       "    <tr>\n",
       "      <th>0</th>\n",
       "      <td>2023-01-02</td>\n",
       "      <td>2873114</td>\n",
       "      <td>2879223</td>\n",
       "      <td>2878715</td>\n",
       "      <td>615</td>\n",
       "      <td>38</td>\n",
       "      <td>Kütahya</td>\n",
       "      <td>MERKEZ</td>\n",
       "      <td>430002</td>\n",
       "      <td>24</td>\n",
       "      <td>12</td>\n",
       "      <td>0.333333</td>\n",
       "    </tr>\n",
       "    <tr>\n",
       "      <th>1</th>\n",
       "      <td>2023-01-16</td>\n",
       "      <td>2872993</td>\n",
       "      <td>2879223</td>\n",
       "      <td>2878715</td>\n",
       "      <td>615</td>\n",
       "      <td>38</td>\n",
       "      <td>Kütahya</td>\n",
       "      <td>ALTINTAŞ</td>\n",
       "      <td>430101</td>\n",
       "      <td>7</td>\n",
       "      <td>3</td>\n",
       "      <td>0.300000</td>\n",
       "    </tr>\n",
       "    <tr>\n",
       "      <th>2</th>\n",
       "      <td>2023-01-18</td>\n",
       "      <td>2918671</td>\n",
       "      <td>2879223</td>\n",
       "      <td>2878715</td>\n",
       "      <td>615</td>\n",
       "      <td>38</td>\n",
       "      <td>Afyonkarahisar</td>\n",
       "      <td>MERKEZ</td>\n",
       "      <td>30002</td>\n",
       "      <td>7</td>\n",
       "      <td>3</td>\n",
       "      <td>0.300000</td>\n",
       "    </tr>\n",
       "    <tr>\n",
       "      <th>3</th>\n",
       "      <td>2023-01-19</td>\n",
       "      <td>2919833</td>\n",
       "      <td>2879223</td>\n",
       "      <td>2878715</td>\n",
       "      <td>615</td>\n",
       "      <td>38</td>\n",
       "      <td>Uşak</td>\n",
       "      <td>MERKEZ</td>\n",
       "      <td>640001</td>\n",
       "      <td>7</td>\n",
       "      <td>3</td>\n",
       "      <td>0.300000</td>\n",
       "    </tr>\n",
       "    <tr>\n",
       "      <th>4</th>\n",
       "      <td>2023-01-02</td>\n",
       "      <td>2873114</td>\n",
       "      <td>2879223</td>\n",
       "      <td>2878715</td>\n",
       "      <td>616</td>\n",
       "      <td>38</td>\n",
       "      <td>Kütahya</td>\n",
       "      <td>MERKEZ</td>\n",
       "      <td>430002</td>\n",
       "      <td>24</td>\n",
       "      <td>12</td>\n",
       "      <td>0.333333</td>\n",
       "    </tr>\n",
       "    <tr>\n",
       "      <th>...</th>\n",
       "      <td>...</td>\n",
       "      <td>...</td>\n",
       "      <td>...</td>\n",
       "      <td>...</td>\n",
       "      <td>...</td>\n",
       "      <td>...</td>\n",
       "      <td>...</td>\n",
       "      <td>...</td>\n",
       "      <td>...</td>\n",
       "      <td>...</td>\n",
       "      <td>...</td>\n",
       "      <td>...</td>\n",
       "    </tr>\n",
       "    <tr>\n",
       "      <th>11422641</th>\n",
       "      <td>2022-12-23</td>\n",
       "      <td>2887352</td>\n",
       "      <td>2927450</td>\n",
       "      <td>2927451</td>\n",
       "      <td>521</td>\n",
       "      <td>21</td>\n",
       "      <td>Şanlıurfa</td>\n",
       "      <td>HALİLİYE</td>\n",
       "      <td>630001</td>\n",
       "      <td>15</td>\n",
       "      <td>1</td>\n",
       "      <td>0.062500</td>\n",
       "    </tr>\n",
       "    <tr>\n",
       "      <th>11422644</th>\n",
       "      <td>2022-12-03</td>\n",
       "      <td>2887362</td>\n",
       "      <td>2927450</td>\n",
       "      <td>2927451</td>\n",
       "      <td>470</td>\n",
       "      <td>39</td>\n",
       "      <td>Şanlıurfa</td>\n",
       "      <td>HALİLİYE</td>\n",
       "      <td>630001</td>\n",
       "      <td>15</td>\n",
       "      <td>1</td>\n",
       "      <td>0.062500</td>\n",
       "    </tr>\n",
       "    <tr>\n",
       "      <th>11422726</th>\n",
       "      <td>2022-12-01</td>\n",
       "      <td>2916860</td>\n",
       "      <td>2927450</td>\n",
       "      <td>2927451</td>\n",
       "      <td>333</td>\n",
       "      <td>16</td>\n",
       "      <td>Şanlıurfa</td>\n",
       "      <td>EYYÜBİYE</td>\n",
       "      <td>630001</td>\n",
       "      <td>6</td>\n",
       "      <td>1</td>\n",
       "      <td>0.142857</td>\n",
       "    </tr>\n",
       "    <tr>\n",
       "      <th>11422738</th>\n",
       "      <td>2022-12-06</td>\n",
       "      <td>2919026</td>\n",
       "      <td>2927450</td>\n",
       "      <td>2927451</td>\n",
       "      <td>595</td>\n",
       "      <td>32</td>\n",
       "      <td>Şanlıurfa</td>\n",
       "      <td>HALİLİYE</td>\n",
       "      <td>630001</td>\n",
       "      <td>7</td>\n",
       "      <td>1</td>\n",
       "      <td>0.125000</td>\n",
       "    </tr>\n",
       "    <tr>\n",
       "      <th>11422782</th>\n",
       "      <td>2022-12-08</td>\n",
       "      <td>2928664</td>\n",
       "      <td>2927450</td>\n",
       "      <td>2927451</td>\n",
       "      <td>510</td>\n",
       "      <td>20</td>\n",
       "      <td>Şanlıurfa</td>\n",
       "      <td>HALİLİYE</td>\n",
       "      <td>630001</td>\n",
       "      <td>15</td>\n",
       "      <td>1</td>\n",
       "      <td>0.062500</td>\n",
       "    </tr>\n",
       "  </tbody>\n",
       "</table>\n",
       "<p>1467515 rows × 12 columns</p>\n",
       "</div>"
      ],
      "text/plain": [
       "               Date  LocationId  MainDistributorId  DistributorId  PackageId   \n",
       "0        2023-01-02     2873114            2879223        2878715        615  \\\n",
       "1        2023-01-16     2872993            2879223        2878715        615   \n",
       "2        2023-01-18     2918671            2879223        2878715        615   \n",
       "3        2023-01-19     2919833            2879223        2878715        615   \n",
       "4        2023-01-02     2873114            2879223        2878715        616   \n",
       "...             ...         ...                ...            ...        ...   \n",
       "11422641 2022-12-23     2887352            2927450        2927451        521   \n",
       "11422644 2022-12-03     2887362            2927450        2927451        470   \n",
       "11422726 2022-12-01     2916860            2927450        2927451        333   \n",
       "11422738 2022-12-06     2919026            2927450        2927451        595   \n",
       "11422782 2022-12-08     2928664            2927450        2927451        510   \n",
       "\n",
       "          ProductId            City  District  BrickId  PaidQty  FreeQty   \n",
       "0                38         Kütahya    MERKEZ   430002       24       12  \\\n",
       "1                38         Kütahya  ALTINTAŞ   430101        7        3   \n",
       "2                38  Afyonkarahisar    MERKEZ    30002        7        3   \n",
       "3                38            Uşak    MERKEZ   640001        7        3   \n",
       "4                38         Kütahya    MERKEZ   430002       24       12   \n",
       "...             ...             ...       ...      ...      ...      ...   \n",
       "11422641         21       Şanlıurfa  HALİLİYE   630001       15        1   \n",
       "11422644         39       Şanlıurfa  HALİLİYE   630001       15        1   \n",
       "11422726         16       Şanlıurfa  EYYÜBİYE   630001        6        1   \n",
       "11422738         32       Şanlıurfa  HALİLİYE   630001        7        1   \n",
       "11422782         20       Şanlıurfa  HALİLİYE   630001       15        1   \n",
       "\n",
       "          PromoRatio  \n",
       "0           0.333333  \n",
       "1           0.300000  \n",
       "2           0.300000  \n",
       "3           0.300000  \n",
       "4           0.333333  \n",
       "...              ...  \n",
       "11422641    0.062500  \n",
       "11422644    0.062500  \n",
       "11422726    0.142857  \n",
       "11422738    0.125000  \n",
       "11422782    0.062500  \n",
       "\n",
       "[1467515 rows x 12 columns]"
      ]
     },
     "execution_count": 24,
     "metadata": {},
     "output_type": "execute_result"
    }
   ],
   "source": [
    "# Filter out the unpromoted sales\n",
    "\n",
    "sales = sales[sales[\"FreeQty\"] != 0]\n",
    "sales"
   ]
  },
  {
   "cell_type": "code",
   "execution_count": 25,
   "metadata": {},
   "outputs": [
    {
     "data": {
      "text/html": [
       "<div>\n",
       "<style scoped>\n",
       "    .dataframe tbody tr th:only-of-type {\n",
       "        vertical-align: middle;\n",
       "    }\n",
       "\n",
       "    .dataframe tbody tr th {\n",
       "        vertical-align: top;\n",
       "    }\n",
       "\n",
       "    .dataframe thead th {\n",
       "        text-align: right;\n",
       "    }\n",
       "</style>\n",
       "<table border=\"1\" class=\"dataframe\">\n",
       "  <thead>\n",
       "    <tr style=\"text-align: right;\">\n",
       "      <th></th>\n",
       "      <th>PaidQty</th>\n",
       "      <th>FreeQty</th>\n",
       "      <th>PromoRatio</th>\n",
       "    </tr>\n",
       "    <tr>\n",
       "      <th>City</th>\n",
       "      <th></th>\n",
       "      <th></th>\n",
       "      <th></th>\n",
       "    </tr>\n",
       "  </thead>\n",
       "  <tbody>\n",
       "    <tr>\n",
       "      <th>Adana</th>\n",
       "      <td>13.973924</td>\n",
       "      <td>3.050771</td>\n",
       "      <td>0.170346</td>\n",
       "    </tr>\n",
       "    <tr>\n",
       "      <th>Adıyaman</th>\n",
       "      <td>14.386344</td>\n",
       "      <td>2.193344</td>\n",
       "      <td>0.134447</td>\n",
       "    </tr>\n",
       "    <tr>\n",
       "      <th>Afyonkarahisar</th>\n",
       "      <td>16.330247</td>\n",
       "      <td>3.734953</td>\n",
       "      <td>0.165907</td>\n",
       "    </tr>\n",
       "    <tr>\n",
       "      <th>Aksaray</th>\n",
       "      <td>17.352738</td>\n",
       "      <td>4.299601</td>\n",
       "      <td>0.181058</td>\n",
       "    </tr>\n",
       "    <tr>\n",
       "      <th>Amasya</th>\n",
       "      <td>13.654268</td>\n",
       "      <td>2.617735</td>\n",
       "      <td>0.161553</td>\n",
       "    </tr>\n",
       "  </tbody>\n",
       "</table>\n",
       "</div>"
      ],
      "text/plain": [
       "                  PaidQty   FreeQty  PromoRatio\n",
       "City                                           \n",
       "Adana           13.973924  3.050771    0.170346\n",
       "Adıyaman        14.386344  2.193344    0.134447\n",
       "Afyonkarahisar  16.330247  3.734953    0.165907\n",
       "Aksaray         17.352738  4.299601    0.181058\n",
       "Amasya          13.654268  2.617735    0.161553"
      ]
     },
     "execution_count": 25,
     "metadata": {},
     "output_type": "execute_result"
    }
   ],
   "source": [
    "sales_groupby_city = sales[[\"City\", \"PaidQty\", \"FreeQty\", \"PromoRatio\"]].groupby(['City']).mean()\n",
    "sales_groupby_city.head()"
   ]
  },
  {
   "cell_type": "code",
   "execution_count": 26,
   "metadata": {},
   "outputs": [],
   "source": [
    "merged_data = cities[[\"City\", \"geometry\"]].merge(sales_groupby_city, on='City')"
   ]
  },
  {
   "cell_type": "code",
   "execution_count": 27,
   "metadata": {},
   "outputs": [
    {
     "data": {
      "text/html": [
       "<div>\n",
       "<style scoped>\n",
       "    .dataframe tbody tr th:only-of-type {\n",
       "        vertical-align: middle;\n",
       "    }\n",
       "\n",
       "    .dataframe tbody tr th {\n",
       "        vertical-align: top;\n",
       "    }\n",
       "\n",
       "    .dataframe thead th {\n",
       "        text-align: right;\n",
       "    }\n",
       "</style>\n",
       "<table border=\"1\" class=\"dataframe\">\n",
       "  <thead>\n",
       "    <tr style=\"text-align: right;\">\n",
       "      <th></th>\n",
       "      <th>City</th>\n",
       "      <th>geometry</th>\n",
       "      <th>PaidQty</th>\n",
       "      <th>FreeQty</th>\n",
       "      <th>PromoRatio</th>\n",
       "    </tr>\n",
       "  </thead>\n",
       "  <tbody>\n",
       "    <tr>\n",
       "      <th>0</th>\n",
       "      <td>Adana</td>\n",
       "      <td>MULTIPOLYGON (((35.20958 36.67875, 35.20958 36...</td>\n",
       "      <td>13.973924</td>\n",
       "      <td>3.050771</td>\n",
       "      <td>0.170346</td>\n",
       "    </tr>\n",
       "    <tr>\n",
       "      <th>1</th>\n",
       "      <td>Adıyaman</td>\n",
       "      <td>POLYGON ((38.68339 37.60323, 38.66182 37.59428...</td>\n",
       "      <td>14.386344</td>\n",
       "      <td>2.193344</td>\n",
       "      <td>0.134447</td>\n",
       "    </tr>\n",
       "    <tr>\n",
       "      <th>2</th>\n",
       "      <td>Afyonkarahisar</td>\n",
       "      <td>POLYGON ((30.18261 37.90116, 30.18878 37.89117...</td>\n",
       "      <td>16.330247</td>\n",
       "      <td>3.734953</td>\n",
       "      <td>0.165907</td>\n",
       "    </tr>\n",
       "    <tr>\n",
       "      <th>3</th>\n",
       "      <td>Ağrı</td>\n",
       "      <td>POLYGON ((43.71635 39.37020, 43.70746 39.36575...</td>\n",
       "      <td>12.260816</td>\n",
       "      <td>3.101442</td>\n",
       "      <td>0.193932</td>\n",
       "    </tr>\n",
       "    <tr>\n",
       "      <th>4</th>\n",
       "      <td>Aksaray</td>\n",
       "      <td>POLYGON ((34.39513 38.19467, 34.39626 38.18270...</td>\n",
       "      <td>17.352738</td>\n",
       "      <td>4.299601</td>\n",
       "      <td>0.181058</td>\n",
       "    </tr>\n",
       "  </tbody>\n",
       "</table>\n",
       "</div>"
      ],
      "text/plain": [
       "             City                                           geometry   \n",
       "0           Adana  MULTIPOLYGON (((35.20958 36.67875, 35.20958 36...  \\\n",
       "1        Adıyaman  POLYGON ((38.68339 37.60323, 38.66182 37.59428...   \n",
       "2  Afyonkarahisar  POLYGON ((30.18261 37.90116, 30.18878 37.89117...   \n",
       "3            Ağrı  POLYGON ((43.71635 39.37020, 43.70746 39.36575...   \n",
       "4         Aksaray  POLYGON ((34.39513 38.19467, 34.39626 38.18270...   \n",
       "\n",
       "     PaidQty   FreeQty  PromoRatio  \n",
       "0  13.973924  3.050771    0.170346  \n",
       "1  14.386344  2.193344    0.134447  \n",
       "2  16.330247  3.734953    0.165907  \n",
       "3  12.260816  3.101442    0.193932  \n",
       "4  17.352738  4.299601    0.181058  "
      ]
     },
     "execution_count": 27,
     "metadata": {},
     "output_type": "execute_result"
    }
   ],
   "source": [
    "merged_data.head()"
   ]
  },
  {
   "cell_type": "markdown",
   "metadata": {},
   "source": [
    "# Visualizations"
   ]
  },
  {
   "cell_type": "code",
   "execution_count": 28,
   "metadata": {},
   "outputs": [
    {
     "data": {
      "text/plain": [
       "<Axes: >"
      ]
     },
     "execution_count": 28,
     "metadata": {},
     "output_type": "execute_result"
    },
    {
     "data": {
      "image/png": "[encoded data removed]",
      "text/plain": [
       "<Figure size 640x480 with 1 Axes>"
      ]
     },
     "metadata": {},
     "output_type": "display_data"
    }
   ],
   "source": [
    "merged_data.plot()"
   ]
  },
  {
   "cell_type": "code",
   "execution_count": 29,
   "metadata": {},
   "outputs": [
    {
     "data": {
      "image/png": "[encoded data removed]",
      "text/plain": [
       "<Figure size 640x480 with 2 Axes>"
      ]
     },
     "metadata": {},
     "output_type": "display_data"
    }
   ],
   "source": [
    "ax = merged_data.plot(column='PromoRatio', legend=True)"
   ]
  }
 ],
 "metadata": {
  "kernelspec": {
   "display_name": "Python 3 (ipykernel)",
   "language": "python",
   "name": "python3"
  },
  "language_info": {
   "codemirror_mode": {
    "name": "ipython",
    "version": 3
   },
   "file_extension": ".py",
   "mimetype": "text/x-python",
   "name": "python",
   "nbconvert_exporter": "python",
   "pygments_lexer": "ipython3",
   "version": "3.11.2"
  }
 },
 "nbformat": 4,
 "nbformat_minor": 2
}
